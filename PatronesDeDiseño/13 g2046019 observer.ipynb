{
 "cells": [
  {
   "cell_type": "code",
   "execution_count": 23,
   "source": [
    "from abc import ABCMeta, abstractmethod"
   ],
   "outputs": [],
   "metadata": {}
  },
  {
   "cell_type": "code",
   "execution_count": 24,
   "source": [
    "class IObservable(metaclass = ABCMeta):\r\n",
    "    \"Interfaz para el sujeto\"\r\n",
    "\r\n",
    "    @staticmethod\r\n",
    "    @abstractmethod\r\n",
    "    def subscribe(observer):\r\n",
    "        \"Metodo para suscripción de observadores\"\r\n",
    "\r\n",
    "    @staticmethod\r\n",
    "    @abstractmethod\r\n",
    "    def unsubscribe(observer):\r\n",
    "        \"Metodo para desuscribir a observadores\"\r\n",
    "\r\n",
    "    @staticmethod\r\n",
    "    @abstractmethod\r\n",
    "    def notify(observer):\r\n",
    "        \"Metodo para notificar a los observadores\""
   ],
   "outputs": [],
   "metadata": {}
  },
  {
   "cell_type": "code",
   "execution_count": 25,
   "source": [
    "class Subject(IObservable):\r\n",
    "    \"Sujeto\"\r\n",
    "    value_observable = 0\r\n",
    "    \r\n",
    "    def __init__(self):\r\n",
    "        # Atributo (variable) que representa la colección de observadores\r\n",
    "        # inscritos al sujeto\r\n",
    "        self._observers = set()\r\n",
    "\r\n",
    "    def subscribe(self, observer):\r\n",
    "        self._observers.add(observer)\r\n",
    "\r\n",
    "    def unsubscribe(self, observer):\r\n",
    "        self._observers.remove(observer)\r\n",
    "\r\n",
    "    def notify(self, arg):\r\n",
    "        for observer in self._observers:\r\n",
    "            observer.notify(self, arg)\r\n",
    "    \r\n",
    "    def change_value(self, value):\r\n",
    "        value_observable = value\r\n",
    "        self.notify(value_observable)"
   ],
   "outputs": [],
   "metadata": {}
  },
  {
   "cell_type": "code",
   "execution_count": 26,
   "source": [
    "class IObserver(metaclass = ABCMeta):\r\n",
    "    \"Interfaz del observador\"\r\n",
    "\r\n",
    "    @staticmethod\r\n",
    "    @abstractmethod\r\n",
    "    def notify(observable, arg):\r\n",
    "        \"Recibe notificación\""
   ],
   "outputs": [],
   "metadata": {}
  },
  {
   "cell_type": "code",
   "execution_count": 27,
   "source": [
    "class Observer(IObserver):\r\n",
    "    \"Observador\"\r\n",
    "    def __init__(self, observable):\r\n",
    "        observable.subscribe(self)\r\n",
    "\r\n",
    "    def notify(self, observable, arg):\r\n",
    "        print(f\"Observer id: {id(self)} recieved {arg}\")"
   ],
   "outputs": [],
   "metadata": {}
  },
  {
   "cell_type": "code",
   "execution_count": null,
   "source": [],
   "outputs": [],
   "metadata": {}
  },
  {
   "cell_type": "code",
   "execution_count": 28,
   "source": [
    "subject = Subject()\r\n",
    "observer_a = Observer(subject)\r\n",
    "observer_b = Observer(subject)\r\n",
    "observer_c = Observer(subject)\r\n",
    "observer_d = Observer(subject)\r\n",
    "\r\n",
    "subject.change_value(20)"
   ],
   "outputs": [
    {
     "output_type": "stream",
     "name": "stdout",
     "text": [
      "Observer id: 3102627140224 recieved 20\n",
      "Observer id: 3102626747920 recieved 20\n",
      "Observer id: 3102626746912 recieved 20\n",
      "Observer id: 3102626747776 recieved 20\n"
     ]
    }
   ],
   "metadata": {}
  },
  {
   "cell_type": "code",
   "execution_count": 29,
   "source": [
    "subject.unsubscribe(observer_b)"
   ],
   "outputs": [],
   "metadata": {}
  },
  {
   "cell_type": "code",
   "execution_count": 30,
   "source": [
    "subject.change_value(100)"
   ],
   "outputs": [
    {
     "output_type": "stream",
     "name": "stdout",
     "text": [
      "Observer id: 3102627140224 recieved 100\n",
      "Observer id: 3102626747920 recieved 100\n",
      "Observer id: 3102626747776 recieved 100\n"
     ]
    }
   ],
   "metadata": {}
  }
 ],
 "metadata": {
  "orig_nbformat": 4,
  "language_info": {
   "name": "python",
   "version": "3.8.10",
   "mimetype": "text/x-python",
   "codemirror_mode": {
    "name": "ipython",
    "version": 3
   },
   "pygments_lexer": "ipython3",
   "nbconvert_exporter": "python",
   "file_extension": ".py"
  },
  "kernelspec": {
   "name": "python3",
   "display_name": "Python 3.8.10 64-bit"
  },
  "interpreter": {
   "hash": "f2575392019334285e0602a4035eec46b9260ee4c95297ea34ade6e3c8b8fcaf"
  }
 },
 "nbformat": 4,
 "nbformat_minor": 2
}