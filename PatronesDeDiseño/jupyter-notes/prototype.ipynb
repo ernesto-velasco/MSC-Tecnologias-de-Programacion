{
 "cells": [
  {
   "cell_type": "markdown",
   "source": [
    "![](https://i.imgur.com/uMt6VwL.png)\n",
    "<center>\n",
    "    <p>Instituto Tecnológico De Colima</p>\n",
    "    </br>\n",
    "    <p>División De Estudios De Posgrado E Investigación</p>\n",
    "    </br>\n",
    "    <p>Maestría En Sistemas Computacionales</p>\n",
    "    </br>\n",
    "    <h1>Patrón De Diseño Prototype</h1>\n",
    "    </br>\n",
    "    <p>Materia</p>\n",
    "    <p><strong>Tecnologías De Programación</strong></p>\n",
    "    </br>\n",
    "    <p>Presenta el alumno</p>\n",
    "    <p><strong>Ernesto Velasco González</strong></p>\n",
    "    </br>\n",
    "    <p>Numero de control</p>\n",
    "    <p><strong>G2046019</strong></p>\n",
    "    </br>\n",
    "    <p>Profesora</p>\n",
    "    <p><strong>Patricia Elizabeth Figuero Millán</strong></p>\n",
    "    </br>\n",
    "    <p>Villa De Álvares, Colima a 21 De Septiembre De 2021</p>\n",
    "</center>"
   ],
   "metadata": {}
  },
  {
   "cell_type": "markdown",
   "source": [
    "# Patrón De Diseño Prototype\n",
    "Prototype es un patrón de diseño creacional que nos permite copiar objetos existentes sin que el código dependa de sus clases.\n",
    "\n",
    "Todas las clases prototipo deben tener una interfaz común que haga posible copiar objetos incluso si sus clases concretas son desconocidas. Los objetos prototipo pueden producir copias completas, ya que los objetos de la misma clase pueden acceder a los campos privados de los demás.\n",
    "\n",
    "En Python el patrón de diseño Prototype estaá disponible a través de la interfaz ***Cloneable*** \n",
    "> Fuente: https://refactoring.guru/es/design-patterns/prototype"
   ],
   "metadata": {}
  },
  {
   "cell_type": "markdown",
   "source": [
    "## Ejemplo\n",
    "Implementar el patrón de diseño Prototype para crear NPC en un videojuego, los cuales pueden ser de distintos tipos, como Mago, Guerrero, o Comerciantes. Todos son NPC (una super clase en común), pero cada uno tiene sus propias características, por ejemplo, el Mago tiene Mana, el Guerrero Estamina, y el Comerciante Carisma.\n",
    "\n",
    "La clase Prototype creara NPC generales, y partir de esa se pueden implementar las clases concretas de cada tipo.\n",
    "\n",
    "> Fuente: https://stackabuse.com/the-prototype-design-pattern-in-python/"
   ],
   "metadata": {}
  },
  {
   "cell_type": "code",
   "execution_count": 15,
   "source": [
    "# importamos los modulos requeridos\n",
    "from abc import ABC, abstractmethod\n",
    "import copy"
   ],
   "outputs": [],
   "metadata": {}
  },
  {
   "cell_type": "code",
   "execution_count": 16,
   "source": [
    "# Creación de la clase prototipo\n",
    "class Prototype(ABC):\n",
    "    # Constructor:\n",
    "    def __init__(self):\n",
    "        # Atributos base\n",
    "        self.name = None\n",
    "        self.height = None\n",
    "        self.age = None\n",
    "        self.defense = None\n",
    "        self.attack = None\n",
    "\n",
    "    # Método clonar:\n",
    "    @abstractmethod\n",
    "    def clone(self):\n",
    "        pass  "
   ],
   "outputs": [],
   "metadata": {}
  },
  {
   "cell_type": "code",
   "execution_count": 17,
   "source": [
    "class Shopkeeper(Prototype):\n",
    "    def __init__(self, height, age, defense, attack):\n",
    "        super().__init__()\n",
    "        self.name = \"Comerciante\"\n",
    "        self.height = height\n",
    "        self.age = age\n",
    "        self.defense = defense\n",
    "        self.attack = attack\n",
    "        # Atributos de la subclase\n",
    "        self.charisma = 30\n",
    "\n",
    "    # Sobreescribir el método clonar\n",
    "    def clone(self):\n",
    "        return copy.deepcopy(self) "
   ],
   "outputs": [],
   "metadata": {}
  },
  {
   "cell_type": "code",
   "execution_count": 18,
   "source": [
    "class Warrior(Prototype):\n",
    "    def __init__(self, height, age, defense, attack):\n",
    "        # Llamar a la super clase y asignar valores base\n",
    "        super().__init__()\n",
    "        self.name = \"Guerrero\"\n",
    "        self.height = height\n",
    "        self.age = age\n",
    "        self.defense = defense\n",
    "        self.attack = attack\n",
    "        # Atributos de la subclase\n",
    "        self.stamina = 60\n",
    "    # Sobreescribir el método clonar\n",
    "    def clone(self):\n",
    "        return copy.deepcopy(self)  "
   ],
   "outputs": [],
   "metadata": {}
  },
  {
   "cell_type": "code",
   "execution_count": 19,
   "source": [
    "class Mage(Prototype):\n",
    "    def __init__(self, height, age, defense, attack):\n",
    "        # Llamar a la super clase y asignar valores base\n",
    "        super().__init__()\n",
    "        self.name = \"Mago\"\n",
    "        self.height = height\n",
    "        self.age = age\n",
    "        self.defense = defense\n",
    "        self.attack = attack\n",
    "        # Atributos de la subclase\n",
    "        self.mana = 100\n",
    "\n",
    "    # Sobreescribir el método clonar\n",
    "    def clone(self):\n",
    "        return copy.deepcopy(self) "
   ],
   "outputs": [],
   "metadata": {}
  },
  {
   "cell_type": "code",
   "execution_count": 20,
   "source": [
    "def main():\n",
    "    shopkeeper_template = Shopkeeper(180, 22, 5, 8)\n",
    "    for i in range(5):\n",
    "        shopkeeper_clone = shopkeeper_template.clone()\n",
    "        print(f'Creando clon del {shopkeeper_clone.name} {i}')"
   ],
   "outputs": [],
   "metadata": {}
  },
  {
   "cell_type": "code",
   "execution_count": 21,
   "source": [
    "if __name__ == \"__main__\":\n",
    "    main()"
   ],
   "outputs": [
    {
     "output_type": "stream",
     "name": "stdout",
     "text": [
      "Creando clon del [🧙‍♂️] Mage 0\n",
      "Creando clon del [🧙‍♂️] Mage 1\n",
      "Creando clon del [🧙‍♂️] Mage 2\n",
      "Creando clon del [🧙‍♂️] Mage 3\n",
      "Creando clon del [🧙‍♂️] Mage 4\n"
     ]
    }
   ],
   "metadata": {}
  }
 ],
 "metadata": {
  "orig_nbformat": 4,
  "language_info": {
   "name": "python",
   "version": "3.8.2",
   "mimetype": "text/x-python",
   "codemirror_mode": {
    "name": "ipython",
    "version": 3
   },
   "pygments_lexer": "ipython3",
   "nbconvert_exporter": "python",
   "file_extension": ".py"
  },
  "kernelspec": {
   "name": "python3",
   "display_name": "Python 3.8.2 64-bit"
  },
  "interpreter": {
   "hash": "31f2aee4e71d21fbe5cf8b01ff0e069b9275f58929596ceb00d14d90e3e16cd6"
  }
 },
 "nbformat": 4,
 "nbformat_minor": 2
}