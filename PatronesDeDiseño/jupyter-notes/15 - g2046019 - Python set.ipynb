{
 "cells": [
  {
   "cell_type": "markdown",
   "metadata": {},
   "source": [
    "![](https://i.imgur.com/uMt6VwL.png)\n",
    "\n",
    "<center>\n",
    "    <p>Instituto Tecnológico De Colima</p>\n",
    "    </br>\n",
    "    <p>División De Estudios De Posgrado E Investigación</p>\n",
    "    </br>\n",
    "    <p>Maestría En Sistemas Computacionales</p>\n",
    "    </br>\n",
    "    <h1>15 Tarea Ejercicio 1: Python set()</h1>\n",
    "    </br>\n",
    "    <p>Materia</p>\n",
    "    <p><strong>Tecnologías De Programación</strong></p>\n",
    "    </br>\n",
    "    <p>Presenta</p>\n",
    "    <p><strong>Ernesto Velasco González</strong></p>\n",
    "    </br>\n",
    "    <p>No. control</p>\n",
    "    <p><strong>G2046019</strong></p>\n",
    "    </br>\n",
    "    <p>Profesora</p>\n",
    "    <p><strong>Patricia Elizabeth Figuero Millán</strong></p>\n",
    "    </br>\n",
    "    <p>Villa De Álvares, Colima a 08 de octubre de 2021</p>\n",
    "</center>"
   ]
  },
  {
   "cell_type": "markdown",
   "metadata": {},
   "source": [
    "# Set\n",
    "---\n",
    "En Python, los set son un tipo (type) usados para almacenar varios elementos en una sola variable y acceder a ellos de forma similar a las listas pero con alguna diferencias:\n",
    "\n",
    "* Los elementos de un set son únicos, lo que significa que no puede haber elementos duplicados.\n",
    "* Los set son desordenados, lo que significa que no mantienen el orden cuando son declarados.\n",
    "* Sus elementos deben ser inmutables, por lo que no puede contener ni diccionarios ni listas.\n",
    "\n",
    "> A diferencia de las listas, en los set no podemos modificar un elemento a través de su índice. Si lo intentamos, tendremos un TypeError"
   ]
  },
  {
   "cell_type": "markdown",
   "metadata": {},
   "source": [
    "<div class=\"alert alert-primary\" role=\"alert\">\n",
    "<h1>Clases Abstractas</h1>\n",
    "<p align=\"justify\">Las clases abstractas son un concepto de programación orientada a objetos. Permiten definir tanto métodos como propiedades, pero que no pueden instancias directamente. Se utilizan para construir subclases, permitiendo así tener una única implementación de métodos compartidos, evitando la duplicación de código.</p>\n",
    "</div>"
   ]
  },
  {
   "cell_type": "code",
   "execution_count": 13,
   "metadata": {},
   "outputs": [
    {
     "name": "stdout",
     "output_type": "stream",
     "text": [
      "set()\n"
     ]
    }
   ],
   "source": [
    "# Crear un set vacio en Python\n",
    "s1 = set()\n",
    "print(s1)"
   ]
  },
  {
   "cell_type": "code",
   "execution_count": 14,
   "metadata": {},
   "outputs": [
    {
     "name": "stdout",
     "output_type": "stream",
     "text": [
      "{1, 4, 5, 6, 8}\n"
     ]
    }
   ],
   "source": [
    "# también se puede crear con valores iniciales usando []\n",
    "s2 = set([5, 4, 6, 8, 8, 1])\n",
    "print(s2)"
   ]
  },
  {
   "cell_type": "code",
   "execution_count": 15,
   "metadata": {},
   "outputs": [
    {
     "name": "stdout",
     "output_type": "stream",
     "text": [
      "{1, 4, 5, 6, 8}\n"
     ]
    }
   ],
   "source": [
    "# Otra forma de crear un set s solo con {}\n",
    "s3 = {5, 4, 6, 8, 8, 1}\n",
    "print(s3)"
   ]
  },
  {
   "cell_type": "code",
   "execution_count": 16,
   "metadata": {},
   "outputs": [
    {
     "name": "stdout",
     "output_type": "stream",
     "text": [
      "{1, 3, 5}\n"
     ]
    }
   ],
   "source": [
    "# ! No pueden existir elemento duplicados\n",
    "s4 = set([1,3,5,1,5])\n",
    "print(s4)"
   ]
  },
  {
   "cell_type": "code",
   "execution_count": 17,
   "metadata": {},
   "outputs": [
    {
     "name": "stdout",
     "output_type": "stream",
     "text": [
      "{True, 34, 'male', 40.21, 'abc'}\n"
     ]
    }
   ],
   "source": [
    "# Los set pueden ser de cualquier tipo de dato\n",
    "s5 = {\"abc\", 34, True, 40.21, \"male\"}\n",
    "print(s5)"
   ]
  },
  {
   "cell_type": "code",
   "execution_count": 18,
   "metadata": {},
   "outputs": [
    {
     "ename": "TypeError",
     "evalue": "unhashable type: 'set'",
     "output_type": "error",
     "traceback": [
      "\u001b[1;31m---------------------------------------------------------------------------\u001b[0m",
      "\u001b[1;31mTypeError\u001b[0m                                 Traceback (most recent call last)",
      "\u001b[1;32m<ipython-input-18-ed87585299d3>\u001b[0m in \u001b[0;36m<module>\u001b[1;34m\u001b[0m\n\u001b[0;32m      1\u001b[0m \u001b[1;31m# Debe ser inmutable, no puede contener diccionarios o listas\u001b[0m\u001b[1;33m\u001b[0m\u001b[1;33m\u001b[0m\u001b[1;33m\u001b[0m\u001b[0m\n\u001b[0;32m      2\u001b[0m \u001b[1;31m# ! Si intentamos lanzara un TypeError\u001b[0m\u001b[1;33m\u001b[0m\u001b[1;33m\u001b[0m\u001b[1;33m\u001b[0m\u001b[0m\n\u001b[1;32m----> 3\u001b[1;33m \u001b[0ms6\u001b[0m \u001b[1;33m=\u001b[0m \u001b[0mset\u001b[0m\u001b[1;33m(\u001b[0m\u001b[1;33m[\u001b[0m\u001b[1;36m1\u001b[0m\u001b[1;33m,\u001b[0m\u001b[1;36m2\u001b[0m\u001b[1;33m,\u001b[0m\u001b[1;36m3\u001b[0m\u001b[1;33m,\u001b[0m \u001b[1;33m{\u001b[0m\u001b[1;36m4\u001b[0m\u001b[1;33m,\u001b[0m\u001b[1;36m5\u001b[0m\u001b[1;33m,\u001b[0m\u001b[1;36m6\u001b[0m\u001b[1;33m}\u001b[0m\u001b[1;33m]\u001b[0m\u001b[1;33m)\u001b[0m\u001b[1;33m\u001b[0m\u001b[1;33m\u001b[0m\u001b[0m\n\u001b[0m\u001b[0;32m      4\u001b[0m \u001b[0ms6\u001b[0m\u001b[1;33m.\u001b[0m\u001b[0madd\u001b[0m\u001b[1;33m(\u001b[0m\u001b[0ms7\u001b[0m\u001b[1;33m)\u001b[0m\u001b[1;33m\u001b[0m\u001b[1;33m\u001b[0m\u001b[0m\n\u001b[0;32m      5\u001b[0m \u001b[0mprint\u001b[0m\u001b[1;33m(\u001b[0m\u001b[0ms6\u001b[0m\u001b[1;33m)\u001b[0m\u001b[1;33m\u001b[0m\u001b[1;33m\u001b[0m\u001b[0m\n",
      "\u001b[1;31mTypeError\u001b[0m: unhashable type: 'set'"
     ]
    }
   ],
   "source": [
    "# Debe ser inmutable, no puede contener diccionarios o listas\n",
    "# ! Si intentamos lanzara un TypeError\n",
    "s6 = set([1,2,3, {4,5,6}])\n",
    "s6.add(s7)\n",
    "print(s6)"
   ]
  },
  {
   "cell_type": "code",
   "execution_count": 19,
   "metadata": {},
   "outputs": [
    {
     "name": "stdout",
     "output_type": "stream",
     "text": [
      "<class 'dict'>\n"
     ]
    }
   ],
   "source": [
    "s7 = {}\n",
    "s8 = set()\n",
    "s9 = {}\n",
    "s10 = set([5, 4, 6, 8, 8, 1])\n",
    "print(type(s9))"
   ]
  },
  {
   "cell_type": "markdown",
   "metadata": {},
   "source": [
    "## Operaciones con set\n",
    "---"
   ]
  },
  {
   "cell_type": "code",
   "execution_count": 20,
   "metadata": {},
   "outputs": [],
   "source": [
    "s = set([5, 6, 7, 8])"
   ]
  },
  {
   "cell_type": "code",
   "execution_count": 21,
   "metadata": {},
   "outputs": [
    {
     "name": "stdout",
     "output_type": "stream",
     "text": [
      "8\n",
      "5\n",
      "6\n",
      "7\n"
     ]
    }
   ],
   "source": [
    "# Se pueden iterar\n",
    "for value in s:\n",
    "    print(value)"
   ]
  },
  {
   "cell_type": "code",
   "execution_count": 22,
   "metadata": {},
   "outputs": [
    {
     "name": "stdout",
     "output_type": "stream",
     "text": [
      "4\n"
     ]
    }
   ],
   "source": [
    "# Con la función len() podemos saber la longitud total del set\n",
    "print(len(s))"
   ]
  },
  {
   "cell_type": "code",
   "execution_count": 23,
   "metadata": {},
   "outputs": [
    {
     "name": "stdout",
     "output_type": "stream",
     "text": [
      "False\n"
     ]
    }
   ],
   "source": [
    "# Buscar si un elemento se encuentra presente en el set\n",
    "print(1 in s)"
   ]
  },
  {
   "cell_type": "code",
   "execution_count": 24,
   "metadata": {},
   "outputs": [
    {
     "name": "stdout",
     "output_type": "stream",
     "text": [
      "{1, 4, 5, 6, 8}\n"
     ]
    }
   ],
   "source": [
    "# se puede unir dos set mediante el operador |\n",
    "print(s1 | s2)"
   ]
  },
  {
   "cell_type": "code",
   "execution_count": 25,
   "metadata": {},
   "outputs": [
    {
     "name": "stdout",
     "output_type": "stream",
     "text": [
      "True\n"
     ]
    }
   ],
   "source": [
    "# se puede utilizar una combinación de diferentes operadores\n",
    "print(1 in s1 | s2)"
   ]
  },
  {
   "cell_type": "markdown",
   "metadata": {},
   "source": [
    "## Métodos"
   ]
  },
  {
   "cell_type": "markdown",
   "metadata": {},
   "source": [
    "Los set en Python tienen una gran cantidad de Métodos, algunos son los siguiente:\n",
    "* s1.add() - Permite añadir el elemento pasado como parametro al set\n",
    "* s1.remove() - Elimina el elemento pasado como parametro del set\n",
    "* s1.discard() - Elimina el elemento pasado como parametro del set\n",
    "* s1.pop() - Elimina un elemento aleatorio del set\n",
    "* s1.clear() - Elimina todos los elementos del set\n",
    "* s1.union(s2[, s3 ...]) - Calcula la union de dos o más set\n",
    "* s1.intersection(s2[, s3 ...]) calcula la intersección de dos o más set, el resultado son aquellos valores que se encuentran en ambos set\n",
    "* s1.difference(s2[, s3 ...]) - Calcula la diferencia de dos o más set\n",
    "* s1.symmetric_difference(s2) - Retorna la diferencia simetrica de dos ser\n",
    "* s1.isdisjoint(s2) - Retorna True si dos set estan unidos (no tienen elementos en común)\n",
    "* s1.issubset(s2) - Retorna True si todos los elementos de un set se encuntran presentes en otro\n",
    "* s1.issuperset(s2) - Retorna True si todos los elementos de un set se encuntran presentes en el set original"
   ]
  },
  {
   "cell_type": "code",
   "execution_count": 26,
   "metadata": {},
   "outputs": [
    {
     "name": "stdout",
     "output_type": "stream",
     "text": [
      "{1, 5, 6, 7, 8}\n"
     ]
    }
   ],
   "source": [
    "# El método add() permite añadir un elemento al set\n",
    "s.add(1)\n",
    "print(s)"
   ]
  },
  {
   "cell_type": "code",
   "execution_count": 27,
   "metadata": {},
   "outputs": [
    {
     "name": "stdout",
     "output_type": "stream",
     "text": [
      "{1, 4, 5, 6, 8}\n"
     ]
    }
   ],
   "source": [
    "# unions de dos set\n",
    "print(s1.union(s2))"
   ]
  },
  {
   "cell_type": "code",
   "execution_count": 28,
   "metadata": {},
   "outputs": [
    {
     "name": "stdout",
     "output_type": "stream",
     "text": [
      "{1, 4, 5, 6, 8}\n"
     ]
    }
   ],
   "source": [
    "# intersección de dos set\n",
    "# el resultado son aquellos elementos que se encuentan en ambos set\n",
    "print(s2.intersection(s3))"
   ]
  },
  {
   "cell_type": "code",
   "execution_count": 29,
   "metadata": {},
   "outputs": [
    {
     "name": "stdout",
     "output_type": "stream",
     "text": [
      "set()\n"
     ]
    },
    {
     "data": {
      "text/plain": [
       "{1, 4, 5, 6, 8}"
      ]
     },
     "execution_count": 29,
     "metadata": {},
     "output_type": "execute_result"
    }
   ],
   "source": [
    "# Diferencia entre dos set\n",
    "set1 = set([1,2,3,4])\n",
    "set2 = set([3,4,5,6])\n",
    "print(s2.difference(s3))\n",
    "s2"
   ]
  },
  {
   "cell_type": "code",
   "execution_count": 30,
   "metadata": {},
   "outputs": [
    {
     "name": "stdout",
     "output_type": "stream",
     "text": [
      "{5, 6}\n"
     ]
    }
   ],
   "source": [
    "set1 = set([1,2,3,4])\n",
    "set2 = set([3,4,5,6])\n",
    "print(set2 - set1)"
   ]
  },
  {
   "cell_type": "markdown",
   "metadata": {},
   "source": [
    "### Diferencias entre remove(), discard(), pop(), y clear()\n",
    "\n",
    "El método **remove** intentara eliminar el elemento pasado como parámetro al método, si no se encuentra retornara un Key Error, el método **discard** es parecido a remove, intentara eliminar un elemento pasados como parámetros, si este valor no es encontrado el método no hará ninguna acción, por otro lado, el método **pop** no recibe ningún parámetro ya que elimina un elemento aleatorio, finalmente, el método **clear** eliminara todos los elementos del set."
   ]
  },
  {
   "cell_type": "code",
   "execution_count": 31,
   "metadata": {},
   "outputs": [
    {
     "name": "stdout",
     "output_type": "stream",
     "text": [
      "{1, 6, 7, 8}\n"
     ]
    }
   ],
   "source": [
    "# El método remove() elimina el elemento que se pasa como parámetro\n",
    "s.remove(5)\n",
    "print(s)"
   ]
  },
  {
   "cell_type": "code",
   "execution_count": 32,
   "metadata": {},
   "outputs": [
    {
     "ename": "KeyError",
     "evalue": "500",
     "output_type": "error",
     "traceback": [
      "\u001b[1;31m---------------------------------------------------------------------------\u001b[0m",
      "\u001b[1;31mKeyError\u001b[0m                                  Traceback (most recent call last)",
      "\u001b[1;32m<ipython-input-32-001192bbf546>\u001b[0m in \u001b[0;36m<module>\u001b[1;34m\u001b[0m\n\u001b[0;32m      1\u001b[0m \u001b[1;31m# si no se encuentra retorna un error Keyerror\u001b[0m\u001b[1;33m\u001b[0m\u001b[1;33m\u001b[0m\u001b[1;33m\u001b[0m\u001b[0m\n\u001b[1;32m----> 2\u001b[1;33m \u001b[0ms\u001b[0m\u001b[1;33m.\u001b[0m\u001b[0mremove\u001b[0m\u001b[1;33m(\u001b[0m\u001b[1;36m500\u001b[0m\u001b[1;33m)\u001b[0m\u001b[1;33m\u001b[0m\u001b[1;33m\u001b[0m\u001b[0m\n\u001b[0m\u001b[0;32m      3\u001b[0m \u001b[0mprint\u001b[0m\u001b[1;33m(\u001b[0m\u001b[0ms\u001b[0m\u001b[1;33m)\u001b[0m\u001b[1;33m\u001b[0m\u001b[1;33m\u001b[0m\u001b[0m\n",
      "\u001b[1;31mKeyError\u001b[0m: 500"
     ]
    }
   ],
   "source": [
    "# si no se encuentra retorna un error Keyerror\n",
    "s.remove(500)\n",
    "print(s)"
   ]
  },
  {
   "cell_type": "code",
   "execution_count": 33,
   "metadata": {},
   "outputs": [
    {
     "name": "stdout",
     "output_type": "stream",
     "text": [
      "{1, 6, 7}\n"
     ]
    }
   ],
   "source": [
    "# El método discard() borra el elemento que se pasa como parámetro\n",
    "s.discard(8)\n",
    "print(s)"
   ]
  },
  {
   "cell_type": "code",
   "execution_count": 34,
   "metadata": {},
   "outputs": [
    {
     "name": "stdout",
     "output_type": "stream",
     "text": [
      "{1, 6, 7}\n"
     ]
    }
   ],
   "source": [
    "# si no se encuentra el valor, el método no hace nada\n",
    "s.discard(800)\n",
    "print(s)"
   ]
  },
  {
   "cell_type": "code",
   "execution_count": 35,
   "metadata": {},
   "outputs": [
    {
     "name": "stdout",
     "output_type": "stream",
     "text": [
      "{6, 7}\n"
     ]
    }
   ],
   "source": [
    "# El método pop() elimina un elemento aleatorio del set\n",
    "s.pop()\n",
    "print(s)"
   ]
  },
  {
   "cell_type": "code",
   "execution_count": 36,
   "metadata": {},
   "outputs": [
    {
     "name": "stdout",
     "output_type": "stream",
     "text": [
      "set()\n"
     ]
    }
   ],
   "source": [
    "# El método clear elimina todos los elementos del set\n",
    "s.clear()\n",
    "print(s)"
   ]
  },
  {
   "cell_type": "markdown",
   "metadata": {},
   "source": [
    "## Referencias\n",
    "---"
   ]
  },
  {
   "cell_type": "markdown",
   "metadata": {},
   "source": [
    "    Set Python. (s/f). Ellibrodepython.com. Recuperado el 8 de octubre de 2021, de https://ellibrodepython.com/sets-python\n",
    "\n",
    "    Python Set (With Examples). (s/f). Programiz.com. Recuperado el 8 de octubre de 2021, de https://www.programiz.com/python-programming/set\n",
    "\n",
    "    Python Sets. (s/f). W3schools.com. Recuperado el 8 de octubre de 2021, de https://www.w3schools.com/python/python_sets.asp"
   ]
  },
  {
   "cell_type": "code",
   "execution_count": null,
   "metadata": {},
   "outputs": [],
   "source": []
  }
 ],
 "metadata": {
  "kernelspec": {
   "display_name": "Python 3",
   "language": "python",
   "name": "python3"
  },
  "language_info": {
   "codemirror_mode": {
    "name": "ipython",
    "version": 3
   },
   "file_extension": ".py",
   "mimetype": "text/x-python",
   "name": "python",
   "nbconvert_exporter": "python",
   "pygments_lexer": "ipython3",
   "version": "3.8.10"
  }
 },
 "nbformat": 4,
 "nbformat_minor": 2
}
