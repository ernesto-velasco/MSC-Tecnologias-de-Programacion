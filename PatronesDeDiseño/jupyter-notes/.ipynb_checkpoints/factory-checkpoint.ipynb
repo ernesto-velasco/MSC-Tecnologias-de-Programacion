{
 "cells": [
  {
   "cell_type": "markdown",
   "metadata": {},
   "source": [
    "![](https://i.imgur.com/uMt6VwL.png)\n",
    "<center>\n",
    "    <p>Instituto Tecnológico De Colima</p>\n",
    "    </br>\n",
    "    <p>División De Estudios De Posgrado E Investigación</p>\n",
    "    </br>\n",
    "    <p>Maestría En Sistemas Computacionales</p>\n",
    "    </br>\n",
    "    <h1>Patrón De Diseño Factory</h1>\n",
    "    </br>\n",
    "    <p>Materia</p>\n",
    "    <p><strong>Tecnologías De Programación</strong></p>\n",
    "    </br>\n",
    "    <p>Presenta el alumno</p>\n",
    "    <p><strong>Ernesto Velasco González</strong></p>\n",
    "    </br>\n",
    "    <p>Numero de control</p>\n",
    "    <p><strong>G2046019</strong></p>\n",
    "    </br>\n",
    "    <p>Profesora</p>\n",
    "    <p><strong>Patricia Elizabeth Figuero Millán</strong></p>\n",
    "    </br>\n",
    "    <p>Villa De Álvares, Colima a 20 De Septiembre De 2021</p>\n",
    "</center>"
   ]
  },
  {
   "cell_type": "markdown",
   "metadata": {},
   "source": [
    "# Patrón De Diseño Factory\n",
    "Factory Method es un patrón de diseño creacional que proporciona una interfaz para crear objetos en una superclase, mientras permite a las subclases alterar el tipo de objetos que se crearán.\n",
    "\n",
    "## Problemática de ejemplo\n",
    "Supongamos que se desea desarrollar un juego de carreras y la tarea es crear tráfico aleatorio en las pistas de carreras, se necesita producir un Carro, una Bicicleta, y una Camioneta de manera alatoria ¿Cómo podemos crear estos objetos?\n",
    "1. Crear una clase para cada tipo de objeto\n",
    "2. Crear una fabrica de vehiculos\n",
    "Pero... ¿Qué si tengo que hacer adecuaciones? ¿Cuantas clases y cuantos objetos se verían afectados?\n",
    "\n",
    "## Solución\n",
    "Para crear objetos de las clases mencionadas anteriormente, se empleará el patrón de diseño Factory, el cual a través de un método nos devolvera los objetos creados acorde a cada tipo de clase que se pueda agregar de vehiculos."
   ]
  },
  {
   "cell_type": "code",
   "execution_count": 1,
   "metadata": {},
   "outputs": [],
   "source": [
    "from abc import ABCMeta, abstractmethod\n",
    "class IVehicle(metaclass=ABCMeta):\n",
    "    \"Class interface\"\n",
    "    @staticmethod\n",
    "    @abstractmethod\n",
    "\n",
    "    def create_object():\n",
    "        \"Un metodo abstracto de la interfaz\"\n"
   ]
  },
  {
   "cell_type": "code",
   "execution_count": 2,
   "metadata": {},
   "outputs": [],
   "source": [
    "class Car(IVehicle):\n",
    "    def __init__(self):\n",
    "        self.name = \"[🚗] This is a car!\"\n",
    "        self.area = 100\n",
    "\n",
    "    def create_object(self):\n",
    "        return self\n",
    "    \n",
    "    def prueba(self):\n",
    "        print(\"Prueba\")"
   ]
  },
  {
   "cell_type": "code",
   "execution_count": 3,
   "metadata": {},
   "outputs": [],
   "source": [
    "class Bike(IVehicle):\n",
    "    def __init__(self):\n",
    "        self.name = \"[🚲] This is a Bike!\"\n",
    "        self.area = 50\n",
    "\n",
    "    def create_object(self):\n",
    "        return \"{self.name} with area {self.area}\""
   ]
  },
  {
   "cell_type": "code",
   "execution_count": 4,
   "metadata": {},
   "outputs": [],
   "source": [
    "class Truck(IVehicle):\n",
    "    def __init__(self):\n",
    "        self.name = \"[🛻] This is a Truck!\"\n",
    "        self.area = 1000\n",
    "    \n",
    "    def create_object(self):\n",
    "        return self"
   ]
  },
  {
   "cell_type": "code",
   "execution_count": 5,
   "metadata": {},
   "outputs": [],
   "source": [
    "class Creator:\n",
    "    \"Factory class\"\n",
    "    @staticmethod\n",
    "    def create_object(some_property):\n",
    "        \"A static method to get a concrete object\"\n",
    "        if some_property == \"car\":\n",
    "            return Car()\n",
    "        elif some_property == \"bike\":\n",
    "            return Bike()\n",
    "        elif some_property == \"truck\":\n",
    "            return Truck()\n"
   ]
  },
  {
   "cell_type": "code",
   "execution_count": 6,
   "metadata": {},
   "outputs": [
    {
     "name": "stdout",
     "output_type": "stream",
     "text": [
      "[🚗] This is a car!\n",
      "Prueba\n"
     ]
    }
   ],
   "source": [
    "#the client\n",
    "object_new = Creator().create_object(\"car\")\n",
    "print(object_new.name)\n",
    "object_new.prueba()"
   ]
  }
 ],
 "metadata": {
  "interpreter": {
   "hash": "31f2aee4e71d21fbe5cf8b01ff0e069b9275f58929596ceb00d14d90e3e16cd6"
  },
  "kernelspec": {
   "display_name": "Python 3 (ipykernel)",
   "language": "python",
   "name": "python3"
  },
  "language_info": {
   "codemirror_mode": {
    "name": "ipython",
    "version": 3
   },
   "file_extension": ".py",
   "mimetype": "text/x-python",
   "name": "python",
   "nbconvert_exporter": "python",
   "pygments_lexer": "ipython3",
   "version": "3.8.9"
  }
 },
 "nbformat": 4,
 "nbformat_minor": 2
}
