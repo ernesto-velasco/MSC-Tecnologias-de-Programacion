{
 "cells": [
  {
   "cell_type": "markdown",
   "metadata": {},
   "source": [
    "![Tux, the Linux mascot](imagenes/banner.PNG)"
   ]
  },
  {
   "cell_type": "markdown",
   "metadata": {},
   "source": [
    "<div class=\"alert alert-danger\" role=\"alert\">\n",
    "<h1>Patrones de Diseño Estructurales</h1>\n",
    "<p>Los patrones de diseño estructurales se enfocan en cómo las clases y los objetos son compuestos usando diferentes técnicas estructurales y formar estructuras con mayor flexibilidad o una flexibilidad alterada.</p>\n",
    "</div>"
   ]
  },
  {
   "cell_type": "markdown",
   "metadata": {},
   "source": [
    "<div class=\"alert alert-warning\" role=\"alert\">\n",
    "<h1>Patrón: Adapter</h1>\n",
    "<p>Es uno de los patrones estructurales que se enfocan en describir como ensamblar objetos; por lo cual, su alcance es a nivel de objeto. \n",
    "</p>\n",
    "</div>\n",
    "\n",
    "A veces se han escrito clases y no se tiene la opción de modificar su interfaz para que se adapte a las nuevas necesidades. Esto sucede si el método al que está llamando está en un sistema diferente a través de una red, una biblioteca que puede importar o, en general, algo que no es viable modificar directamente para sus necesidades particulares.\n",
    "\n",
    "El patrón de diseño del adaptador resuelve estos problemas:\n",
    "* ¿Cómo se puede reutilizar una clase que no tiene una interfaz que requiere un cliente?\n",
    "* ¿Cómo pueden trabajar juntas clases que tienen interfaces incompatibles?\n",
    "* ¿Cómo se puede proporcionar una interfaz alternativa para una clase?\n",
    "\n",
    "Puede tener dos clases que son similares, pero tienen diferentes firmas (signature) de métodos; por lo cual, es necesari crear un adaptador sobre una de las firmas de los métodos para que sea más fácil de implementar y extender en el cliente.\n",
    "\n",
    "\n",
    "Es una interface alternativa sobre una interface existente. Ésta puede proveer de funcionalidades extras de las funcionalidades que una interface que está siendo alterada no proporciona. \n",
    "\n",
    "En resumen, el patrón de diseño Adapter es útilizada cuando una interface existente no se puede mapear directamente a una interfaz que requiere el cliente. Entonces se crea un adaptador, que tiene un rol funcional similar, pero con una interface compatible.\n",
    "\n",
    "IMPORTANTE: Un adaptador es similar al Decorador en la forma en que también actúa como un envoltorio para un objeto. Tambien es\n",
    "utilizado en tiempo de ejecución; sin embargo, no está diseñado para usarse de forma recursiva."
   ]
  },
  {
   "cell_type": "markdown",
   "metadata": {},
   "source": [
    "## Terminología\n",
    "* **Objetivo (Target)**: el dominio específico de la interface o clase que necesita ser adaptada. Ejemplo ```ClassB``` del diagrama UML necesita ser adaptada. Es compatible con ```ClassA``` \n",
    "* **Interface Adapter**: la interfaz del objetivo que el adaptador necesitará implementar.\n",
    "* **Adaptador**: la clase concreta adaptador que contiene los procesos de adaptación. Ejemplo el Adaptador ```ClassBAdapter``` necesita implementar la interface ```IA``` para ser compatible con el cliente.\n",
    "* **Cliente**: cualquier código que utilizará el Adaptador\n"
   ]
  },
  {
   "cell_type": "markdown",
   "metadata": {},
   "source": [
    "## Diagrama UML del patrón Adapter\n",
    "![Tux, the Linux mascot](imagenes/adapter_uml.PNG)"
   ]
  },
  {
   "cell_type": "markdown",
   "metadata": {},
   "source": [
    "### Código fuente (conceptual)\n",
    "Se tienen dos clases ```Clase A``` y  ```Clase B``` con diferentes firmas (signature) de método.\n",
    "Se pueden crear objetos de ambas clases  y funciona. Pero antes de usar cada método de lo objetos, se necesita hacer una verificación condicional para ver qué tipo de clase es a la que estoy llamando, ya que las firmas del método son diferentes. Significa que el cliente está haciendo un trabajo extra. En su lugar, puedo crear una interfaz de adaptador para la ClassB incompatible, que reduce la necesidad de lógica condicional adicional.\n",
    "\n"
   ]
  },
  {
   "cell_type": "markdown",
   "metadata": {},
   "source": [
    "### Implementación\n",
    "Analice los códigos siguientes, para comprender la implementación del patrón de diseño Factory."
   ]
  },
  {
   "cell_type": "code",
   "execution_count": 17,
   "metadata": {},
   "outputs": [],
   "source": [
    "from abc import ABCMeta, abstractmethod\n",
    "\n",
    "class IA(metaclass=ABCMeta):\n",
    "    \"An interface for an object\"\n",
    "    @staticmethod\n",
    "    @abstractmethod\n",
    "    def method_a():\n",
    "        \"An abstract method A\""
   ]
  },
  {
   "cell_type": "code",
   "execution_count": 18,
   "metadata": {},
   "outputs": [],
   "source": [
    "class ClassA(IA):\n",
    "    \"A Sample Class the implements IA\"\n",
    "\n",
    "    def method_a(self):\n",
    "        print(\"method A\")"
   ]
  },
  {
   "cell_type": "code",
   "execution_count": 19,
   "metadata": {},
   "outputs": [],
   "source": [
    "class IB(metaclass=ABCMeta):\n",
    "    \"An interface for an object\"\n",
    "    @staticmethod\n",
    "    @abstractmethod\n",
    "    def method_b():\n",
    "        \"An abstract method B\""
   ]
  },
  {
   "cell_type": "code",
   "execution_count": 20,
   "metadata": {},
   "outputs": [],
   "source": [
    "class ClassB(IB):\n",
    "    \"A Sample Class the implements IB\"\n",
    "\n",
    "    def method_b(self):\n",
    "        print(\"method B\")\n"
   ]
  },
  {
   "cell_type": "code",
   "execution_count": 25,
   "metadata": {},
   "outputs": [],
   "source": [
    "class ClassBAdapter(IA):\n",
    "    \"ClassB does not have a method_a, so we can create an adapter\"\n",
    "\n",
    "    def __init__(self):\n",
    "        self.class_b = ClassB()\n",
    "        \n",
    "\n",
    "    def method_a(self):\n",
    "        \"calls the class b method_b instead\"\n",
    "        self.class_b.method_b()\n"
   ]
  },
  {
   "cell_type": "code",
   "execution_count": 22,
   "metadata": {},
   "outputs": [
    {
     "name": "stdout",
     "output_type": "stream",
     "text": [
      "method A\n",
      "method B\n"
     ]
    }
   ],
   "source": [
    "# The Client\n",
    "# Before the adapter I need to test the objects class to know which\n",
    "# method to call.\n",
    "ITEMS = [ClassA(), ClassB()]\n",
    "for item in ITEMS:\n",
    "    if isinstance(item, ClassB):\n",
    "        item.method_b()\n",
    "    else:\n",
    "        item.method_a()"
   ]
  },
  {
   "cell_type": "code",
   "execution_count": 26,
   "metadata": {},
   "outputs": [
    {
     "name": "stdout",
     "output_type": "stream",
     "text": [
      "method A\n",
      "method B\n"
     ]
    }
   ],
   "source": [
    "# After creating an adapter for ClassB I can reuse the same method\n",
    "# signature as ClassA (preferred)\n",
    "ITEMS = [ClassA(), ClassBAdapter()]\n",
    "for item in ITEMS:\n",
    "    item.method_a()"
   ]
  },
  {
   "cell_type": "code",
   "execution_count": null,
   "metadata": {},
   "outputs": [],
   "source": []
  }
 ],
 "metadata": {
  "kernelspec": {
   "display_name": "Python 3 (ipykernel)",
   "language": "python",
   "name": "python3"
  },
  "language_info": {
   "codemirror_mode": {
    "name": "ipython",
    "version": 3
   },
   "file_extension": ".py",
   "mimetype": "text/x-python",
   "name": "python",
   "nbconvert_exporter": "python",
   "pygments_lexer": "ipython3",
   "version": "3.8.11"
  }
 },
 "nbformat": 4,
 "nbformat_minor": 4
}
