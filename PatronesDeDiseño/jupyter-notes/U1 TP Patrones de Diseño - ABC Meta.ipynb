{
 "cells": [
  {
   "cell_type": "markdown",
   "metadata": {},
   "source": [
    "![Tux, the Linux mascot](imagenes/banner.PNG)"
   ]
  },
  {
   "cell_type": "markdown",
   "metadata": {},
   "source": [
    "<div class=\"alert alert-danger\" role=\"alert\">\n",
    "<h1>Clases Abstractas</h1>\n",
    "<p align=\"justify\">Las clases abstractas son un concepto de programación orientada a objetos. Permiten definir tanto métodos como propiedades, pero que no pueden instancias directamente. Se utilizan para construir subclases, permitiendo así tener una única implementación de métodos compartidos, evitando la duplicación de código.</p>\n",
    "</div>"
   ]
  },
  {
   "cell_type": "markdown",
   "metadata": {},
   "source": [
    "<div class=\"alert alert-warning\" role=\"alert\">\n",
    "<h1>Propiedades de las Clases Abstractas</h1>\n",
    "</div>\n",
    "\n",
    "* No pueden ser instanciadas, éstas proporcionan una interfaz para las sublcases derivadas, evitando la duplicación de código.\n",
    "* Las clases derivadas de las clases abstracas deben implementar todos los métodos abractos para poder crear un clase que se ajuste a la interfaz definida.\n",
    "\n",
    "RESUMEN: Las clases abstractas define una interfaz común para las subclases."
   ]
  },
  {
   "cell_type": "markdown",
   "metadata": {},
   "source": [
    "## Utilización de las clases abstractas\n",
    "Las cases abstractas se utilizan cuando se desea definir una abstracción que englobe objetos de distintos tipos y se desea hacer uso de polimorfismo. Analice el ejemplo siguiente en UML.\n",
    "\n",
    "![Tux, the Linux mascot](imagenes/abstracta.PNG)\n",
    "\n",
    "Como se puede observar, la clase ```Figura``` es abstracta por que no tiene sentido calcular el área de una \"figura\"; no obstante, las subclases ```Cuadrado``` y ```Círculo``` deben implementar el método abstracto ```área()``` de lo contrario deberían declararse como abstractas.\n",
    "\n",
    "### Interfaces\n",
    "Las interfaces son clases completamente abstracta, es decir, clases sin implementación (no llevan código). En la programación orientada a objetos, una interfaz define el conjunto de métodos que tiene que tener un objeto para que pueda cumplir con un determinada función. Las interfaces definen como se comportan los objetos y lo que se puede hacer con ellos; es decir, el qué y no el cómo."
   ]
  },
  {
   "cell_type": "markdown",
   "metadata": {},
   "source": [
    "## Implementación en Python\n",
    "\n",
    "En python no existe la palabra reservada ```interface``` como otros lenguajes de programación. \n",
    "\n",
    "Las interfaces mediante clases abstractas se pueden implementar en Python mediante el módulo ```abc```, que permite definir una forma de crear interfaces a través de metaclases (las instancias son clases) definiendo los métodos (sin implementación) y forazando a las clases que usan esta interfaz a implementar tales métodos.\n",
    "\n",
    "### ABCMeta\n",
    "Las clases ABCMeta son una herramienta de desarrollo que le ayuda a escribir clases que se ajusten a un interfaz que ha diseñado. ABCMeta hace referencia a **A**bstract **B**ase **C**lasses (Clase de Base Abstracta).\n",
    "\n",
    "Las interfaces abstractas no son instanciadas directamente en el script, sino a través de las subclases implementadas que proveeran el código de implementación de los métodos abstractos de la interface. Ejemplo, no se se instancia ```IChair``` directamente, pero si ```SmallChair``` que implmenta los métodos descritos en la interfaz ```IChair```.\n",
    "\n",
    "Un método de interface abstracta es un método que es declarado pero que no contiene implementación. La implementación sucede en la clase que hereda la clase abstracta. La clase que hereda la interfaz deberá implementar el código en cada uno de los métodos que la clase abstracta está describiendo. \n",
    "\n",
    "La definición de una clase abstracta es la siguiente:\n",
    "\n",
    "```\n",
    "from abc import ABCMeta, abstractmethod\n",
    "\n",
    "class Interface(metaclass=ABCMeta):\n",
    "    \"Class Interface\"\n",
    "    \n",
    "    #Método que no permite realizar \n",
    "    #modificaciones ni de clase ni de objeto\n",
    "    @staticmethod \n",
    "    #Para definir un método abstracto en python \n",
    "    #se debe utilizar el decorador\n",
    "    #@abstractmethod, aquellos que son declarados \n",
    "    #pero no tienen una implementación\n",
    "    \n",
    "    @abstractmethod\n",
    "    def metodo_abstracto():\n",
    "        \"Un método abastracto de la interfaz\"\n",
    "        \n",
    "```"
   ]
  },
  {
   "cell_type": "code",
   "execution_count": null,
   "metadata": {},
   "outputs": [],
   "source": []
  }
 ],
 "metadata": {
  "kernelspec": {
   "display_name": "Python 3 (ipykernel)",
   "language": "python",
   "name": "python3"
  },
  "language_info": {
   "codemirror_mode": {
    "name": "ipython",
    "version": 3
   },
   "file_extension": ".py",
   "mimetype": "text/x-python",
   "name": "python",
   "nbconvert_exporter": "python",
   "pygments_lexer": "ipython3",
   "version": "3.8.9"
  }
 },
 "nbformat": 4,
 "nbformat_minor": 4
}
