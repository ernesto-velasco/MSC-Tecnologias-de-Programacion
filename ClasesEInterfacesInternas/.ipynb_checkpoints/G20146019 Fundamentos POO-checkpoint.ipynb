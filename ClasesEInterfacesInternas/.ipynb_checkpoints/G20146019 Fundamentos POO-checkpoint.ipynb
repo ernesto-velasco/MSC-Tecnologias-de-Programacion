{
 "cells": [
  {
   "cell_type": "markdown",
   "metadata": {},
   "source": [
    "![](https://i.imgur.com/uMt6VwL.png)\n",
    "\n",
    "<center>\n",
    "    <p>Instituto Tecnológico De Colima</p>\n",
    "    </br>\n",
    "    <p>División De Estudios De Posgrado E Investigación</p>\n",
    "    </br>\n",
    "    <p>Maestría En Sistemas Computacionales</p>\n",
    "    </br>\n",
    "    <h1>Fundamentos de Programación Orientada a Objetos</h1>\n",
    "    </br>\n",
    "    <p>Materia</p>\n",
    "    <p><strong>Tecnologías De Programación</strong></p>\n",
    "    </br>\n",
    "    <p>Presenta</p>\n",
    "    <p><strong>Ernesto Velasco González</strong></p>\n",
    "    </br>\n",
    "    <p>No. control</p>\n",
    "    <p><strong>G2046019</strong></p>\n",
    "    </br>\n",
    "    <p>Profesora</p>\n",
    "    <p><strong>Patricia Elizabeth Figuero Millán</strong></p>\n",
    "    </br>\n",
    "    <p>Villa De Álvares, Colima a 18 de noviembre de 2021</p>\n",
    "</center>"
   ]
  },
  {
   "cell_type": "markdown",
   "metadata": {},
   "source": [
    "## Clases y objetos"
   ]
  },
  {
   "cell_type": "code",
   "execution_count": 9,
   "metadata": {},
   "outputs": [
    {
     "name": "stdout",
     "output_type": "stream",
     "text": [
      "Name: Jessa Sex: Female Profession: Software Enginer\n",
      "Jessa working as a  Software Enginer\n"
     ]
    }
   ],
   "source": [
    "class Person:\n",
    "    def __init__(self, name, sex, profession):\n",
    "        # data members(instance variabels)\n",
    "        self.name = name\n",
    "        self.sex = sex\n",
    "        self.profession = profession\n",
    "\n",
    "    # behavior (instance methods)\n",
    "    def show(self):\n",
    "        print('Name:', self.name, 'Sex:', self.sex\n",
    "        , 'Profession:', self.profession)\n",
    "\n",
    "    # behavior (instance methods)\n",
    "    def working(self):\n",
    "        print(self.name, 'working as a ', self.profession)\n",
    "    \n",
    "# create object of a class\n",
    "jessa = Person('Jessa', 'Female', 'Software Enginer')\n",
    "\n",
    "#call methods\n",
    "jessa.show()\n",
    "jessa.working()"
   ]
  },
  {
   "cell_type": "markdown",
   "metadata": {},
   "source": [
    "## Atributos de clase"
   ]
  },
  {
   "cell_type": "code",
   "execution_count": 10,
   "metadata": {},
   "outputs": [
    {
     "name": "stdout",
     "output_type": "stream",
     "text": [
      "Student Harry 12 ABC School\n",
      "Student Harry 14 XYZ School\n",
      "XYZ School\n"
     ]
    }
   ],
   "source": [
    "class Student:\n",
    "    #class variable\n",
    "    school_name = \"ABC School\"\n",
    "\n",
    "    #constructor\n",
    "    def __init__(self, name, age):\n",
    "        #instance variables\n",
    "        self.name = name\n",
    "        self.age = age\n",
    "    \n",
    "    # instance method\n",
    "    def show(self):\n",
    "        # access instance variable and class variables\n",
    "        print('Student', self.name, self.age, Student.school_name)\n",
    "    \n",
    "    # instance method\n",
    "    def change_age(self, new_age):\n",
    "        # modify instance variable\n",
    "        self.age = new_age\n",
    "\n",
    "    # class method\n",
    "    @classmethod\n",
    "    def modify_school_name(cls, new_name):\n",
    "        # modify class variable\n",
    "        cls.school_name = new_name\n",
    "\n",
    "s1 = Student(\"Harry\", 12)\n",
    "\n",
    "# call instance methods\n",
    "s1.show()\n",
    "s1.change_age(14)\n",
    "\n",
    "# call class method\n",
    "Student.modify_school_name(\"XYZ School\")\n",
    "\n",
    "# call instance methods\n",
    "s1.show()\n",
    "\n",
    "print(s1.school_name)"
   ]
  },
  {
   "cell_type": "markdown",
   "metadata": {},
   "source": [
    "## Métodos de clase"
   ]
  },
  {
   "cell_type": "code",
   "execution_count": null,
   "metadata": {},
   "outputs": [],
   "source": [
    "class Student:\n",
    "    def __init__(self, name, age):\n",
    "        #private member\n",
    "        self.name = name\n",
    "        self.__age = age\n",
    "    \n",
    "    # getter method\n",
    "    def get_age(self):\n",
    "        return self.__age\n",
    "    \n",
    "    # setter method\n",
    "    def set_age(self, age):\n",
    "        self.__age = age\n",
    "    \n",
    "stud = Student(\"Jessa\", 14)\n",
    "\n",
    "# retiving age using gette\n",
    "print(\"Name: \", stud.name, stud.get_age())\n",
    "\n",
    "# changing age using setter\n",
    "stud.set_age(16)\n",
    "\n",
    "# retiving age using getter\n",
    "print(\"Name: \", stud.name, stud.get_age())"
   ]
  },
  {
   "cell_type": "markdown",
   "metadata": {},
   "source": [
    "## Encapsulación"
   ]
  },
  {
   "cell_type": "code",
   "execution_count": 13,
   "metadata": {},
   "outputs": [
    {
     "name": "stdout",
     "output_type": "stream",
     "text": [
      "Student Details:  Jessa 10\n",
      "Invalid roll no. Please ser correct roll number\n",
      "Student Details:  Jessa 25\n"
     ]
    }
   ],
   "source": [
    "class Student:\n",
    "    def __init__(self, name, roll_no, age):\n",
    "        #private member\n",
    "        self.name = name\n",
    "        # private members to restrict access\n",
    "        # avoid direct data modification\n",
    "        self.__roll_no = roll_no\n",
    "        self.__age = age\n",
    "    \n",
    "    # getter method\n",
    "    def show(self):\n",
    "        print(\"Student Details: \", self.name, self.__roll_no)\n",
    "    \n",
    "    # getter method\n",
    "    def get_roll_no(self):\n",
    "        return self.__roll_no\n",
    "\n",
    "    # setter method to modify data member\n",
    "    # condition to allow data modification wuth rules\n",
    "    def set_roll_no(self, number):\n",
    "        if number > 50:\n",
    "            print(\"Invalid roll no. Please ser correct roll number\")\n",
    "        else:\n",
    "            self.__roll_no = number\n",
    "\n",
    "jessa = Student(\"Jessa\", 10, 15)\n",
    "\n",
    "# before modify\n",
    "jessa.show()\n",
    "\n",
    "# changing roll\n",
    "jessa.set_roll_no(120)\n",
    "jessa.set_roll_no(25)\n",
    "jessa.show()"
   ]
  },
  {
   "cell_type": "markdown",
   "metadata": {},
   "source": [
    "## Polimorfismo"
   ]
  },
  {
   "cell_type": "code",
   "execution_count": 14,
   "metadata": {},
   "outputs": [
    {
     "name": "stdout",
     "output_type": "stream",
     "text": [
      "Details:  Car xl red 20000\n",
      "Max speed is 240\n",
      "Vehicle change 7 gear\n",
      "Max speed is 150\n",
      "Vehicle change 6 gear\n"
     ]
    }
   ],
   "source": [
    "class Vehicle:\n",
    "    def __init__(self, name, color, price):\n",
    "        self.name = name\n",
    "        self.color = color\n",
    "        self.price = price\n",
    "    \n",
    "    def show(self):\n",
    "        print(\"Details: \", self.name, self.color, self.price)\n",
    "    \n",
    "    def max_speed(self):\n",
    "        print(\"Max speed is 150\")\n",
    "    \n",
    "    def change_gear(self):\n",
    "        print(\"Vehicle change 6 gear\")\n",
    "\n",
    "class Car(Vehicle):\n",
    "    def max_speed(self):\n",
    "        print(\"Max speed is 240\")\n",
    "    \n",
    "    def change_gear(self):\n",
    "        print(\"Vehicle change 7 gear\")\n",
    "\n",
    "car = Car(\"Car xl\", \"red\", 20000)\n",
    "car.show()\n",
    "\n",
    "car.max_speed()\n",
    "car.change_gear()\n",
    "\n",
    "vehicle = Vehicle(\"Truck xl\", \"white\", 75000)\n",
    "vehicle.max_speed()\n",
    "vehicle.change_gear()"
   ]
  },
  {
   "cell_type": "markdown",
   "metadata": {},
   "source": [
    "## Herencia Simple"
   ]
  },
  {
   "cell_type": "code",
   "execution_count": 1,
   "metadata": {},
   "outputs": [
    {
     "name": "stdout",
     "output_type": "stream",
     "text": [
      "Inside Vehicle class\n",
      "Inside Car class\n"
     ]
    }
   ],
   "source": [
    "# Herencia simple\n",
    "# Base class\n",
    "class Vehicle:\n",
    "    def Vehicle_info(self):\n",
    "        print('Inside Vehicle class')\n",
    "\n",
    "# Child class\n",
    "class Car(Vehicle):\n",
    "    def car_info(self):\n",
    "        print('Inside Car class')\n",
    "\n",
    "# Create object of Car\n",
    "car = Car()\n",
    "\n",
    "# access Vehicle's info using car object\n",
    "car.Vehicle_info()\n",
    "car.car_info()"
   ]
  },
  {
   "cell_type": "markdown",
   "metadata": {},
   "source": [
    "## Herencia Múltiple"
   ]
  },
  {
   "cell_type": "code",
   "execution_count": 2,
   "metadata": {},
   "outputs": [
    {
     "name": "stdout",
     "output_type": "stream",
     "text": [
      "Inside Person class\n",
      "Name: Jessa Age: 28\n",
      "Inside Company class\n",
      "Name: Google Location: Atlanta\n",
      "Inside Employee class\n",
      "Salary: 12000 Skill: Machine Learning\n",
      "Clase padre\n",
      "Clase padre 2\n"
     ]
    }
   ],
   "source": [
    "# Herencia Múltiple\n",
    "# Parent class 1\n",
    "class Person:\n",
    "    def person_info(self, name, age):\n",
    "        print('Inside Person class')\n",
    "        print('Name:', name, 'Age:', age)\n",
    "\n",
    "    def show(seld):\n",
    "        print('Clase padre')\n",
    "\n",
    "# Parent class 2\n",
    "class Company:\n",
    "        def company_info(self, company_name, location):\n",
    "            print('Inside Company class')\n",
    "            print('Name:', company_name, 'Location:', location)\n",
    "        \n",
    "        def show_company(self):\n",
    "            print('Clase padre 2')\n",
    "\n",
    "# Child class\n",
    "class Employee(Person, Company):\n",
    "    def Employe_info(self, salary, skill):\n",
    "        print('Inside Employee class')\n",
    "        print('Salary:', salary, 'Skill:', skill)\n",
    "\n",
    "# Create object of Employee\n",
    "emp = Employee()\n",
    "\n",
    "#access data\n",
    "emp.person_info('Jessa', 28)\n",
    "emp.company_info('Google', 'Atlanta')\n",
    "emp.Employe_info(12000, 'Machine Learning')\n",
    "emp.show()\n",
    "emp.show_company()\n"
   ]
  },
  {
   "cell_type": "markdown",
   "metadata": {},
   "source": [
    "# Herencia Multinivel"
   ]
  },
  {
   "cell_type": "code",
   "execution_count": 4,
   "metadata": {},
   "outputs": [
    {
     "name": "stdout",
     "output_type": "stream",
     "text": [
      "Inside Vehicle class\n",
      "Inside Car class\n",
      "Inside SportsCar class\n"
     ]
    }
   ],
   "source": [
    "# Herencia Multinivel\n",
    "# Base class\n",
    "class Vehicle:\n",
    "    def Vehicle_info(self):\n",
    "        print('Inside Vehicle class')\n",
    "\n",
    "# Child class\n",
    "class Car(Vehicle):\n",
    "    def Car_info(self):\n",
    "        print('Inside Car class')\n",
    "\n",
    "# Child class\n",
    "class SportsCar(Car):\n",
    "    def sports_car_info(self):\n",
    "        print('Inside SportsCar class')\n",
    "\n",
    "# Create object\n",
    "s_car = SportsCar()\n",
    "\n",
    "# Access Vehicle's and Car info using SportsCar object\n",
    "s_car.Vehicle_info()\n",
    "s_car.Car_info()\n",
    "s_car.sports_car_info()"
   ]
  },
  {
   "cell_type": "markdown",
   "metadata": {},
   "source": [
    "# Herencia Jerárquica"
   ]
  },
  {
   "cell_type": "code",
   "execution_count": 5,
   "metadata": {},
   "outputs": [
    {
     "name": "stdout",
     "output_type": "stream",
     "text": [
      "This is Vehicle\n",
      "Car name is: BMW\n",
      "This is Vehicle\n",
      "Car name is: Ford\n"
     ]
    }
   ],
   "source": [
    "# Herencia Jerárquica\n",
    "class Vehicle:\n",
    "    def info(self):\n",
    "        print('This is Vehicle')\n",
    "\n",
    "class Car(Vehicle):\n",
    "    def car_info(self, name):\n",
    "        print('Car name is:', name)\n",
    "\n",
    "class Truck(Vehicle):\n",
    "    def truck_info(self, name):\n",
    "        print('Truck name is:', name)\n",
    "\n",
    "obj1 = Car()\n",
    "obj1.info()\n",
    "obj1.car_info('BMW')\n",
    "\n",
    "obj2 = Car()\n",
    "obj2.info()\n",
    "obj2.car_info('Ford')\n",
    "\n",
    "\n"
   ]
  },
  {
   "cell_type": "markdown",
   "metadata": {},
   "source": [
    "## Herencia Híbrida"
   ]
  },
  {
   "cell_type": "code",
   "execution_count": 7,
   "metadata": {},
   "outputs": [
    {
     "name": "stdout",
     "output_type": "stream",
     "text": [
      "Inside Vehicle class\n",
      "Inside Car class\n",
      "Inside Sports Car class\n"
     ]
    }
   ],
   "source": [
    "# Herencia Híbrida\n",
    "class Vehicle:\n",
    "    def Vehicle_info(self):\n",
    "        print('Inside Vehicle class')\n",
    "\n",
    "class Car(Vehicle):\n",
    "    def Car_info(self):\n",
    "        print('Inside Car class')\n",
    "\n",
    "class Truck(Vehicle):\n",
    "    def Truck_info(self):\n",
    "        print('Inside Truck class')\n",
    "\n",
    "# Sports Car can inherits properties of Vehicle and Car\n",
    "class SportsCar(Car, Vehicle):\n",
    "    def SportsCar_info(self):\n",
    "        print('Inside Sports Car class')\n",
    "\n",
    "# Create object\n",
    "s_car = SportsCar()\n",
    "\n",
    "s_car.Vehicle_info()\n",
    "s_car.Car_info()\n",
    "s_car.SportsCar_info()"
   ]
  },
  {
   "cell_type": "code",
   "execution_count": 8,
   "metadata": {},
   "outputs": [
    {
     "name": "stdout",
     "output_type": "stream",
     "text": [
      "Jessa works at Google\n"
     ]
    }
   ],
   "source": [
    "class Company:\n",
    "    def company_name(self):\n",
    "        return 'Google'\n",
    "\n",
    "class Employee(Company):\n",
    "    def info(self):\n",
    "        # Calling the superclass method using super() function\n",
    "        c_name = super().company_name()\n",
    "        print(\"Jessa works at\", c_name)\n",
    "\n",
    "# Creating object of child class\n",
    "emp = Employee()\n",
    "emp.info()"
   ]
  }
 ],
 "metadata": {
  "interpreter": {
   "hash": "f2575392019334285e0602a4035eec46b9260ee4c95297ea34ade6e3c8b8fcaf"
  },
  "kernelspec": {
   "display_name": "Python 3",
   "language": "python",
   "name": "python3"
  },
  "language_info": {
   "codemirror_mode": {
    "name": "ipython",
    "version": 3
   },
   "file_extension": ".py",
   "mimetype": "text/x-python",
   "name": "python",
   "nbconvert_exporter": "python",
   "pygments_lexer": "ipython3",
   "version": "3.8.10"
  }
 },
 "nbformat": 4,
 "nbformat_minor": 2
}
